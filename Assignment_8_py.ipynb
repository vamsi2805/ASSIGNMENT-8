{
  "nbformat": 4,
  "nbformat_minor": 0,
  "metadata": {
    "colab": {
      "name": "Assignment 8 .py",
      "provenance": [],
      "collapsed_sections": [],
      "authorship_tag": "ABX9TyMnMnQ4srx5V4Oc28o4aLde",
      "include_colab_link": true
    },
    "kernelspec": {
      "name": "python3",
      "display_name": "Python 3"
    }
  },
  "cells": [
    {
      "cell_type": "markdown",
      "metadata": {
        "id": "view-in-github",
        "colab_type": "text"
      },
      "source": [
        "<a href=\"https://colab.research.google.com/github/vamsi2805/ASSIGNMENT-8/blob/master/Assignment_8_py.ipynb\" target=\"_parent\"><img src=\"https://colab.research.google.com/assets/colab-badge.svg\" alt=\"Open In Colab\"/></a>"
      ]
    },
    {
      "cell_type": "code",
      "metadata": {
        "id": "jgR83E_M3Cat",
        "colab_type": "code",
        "colab": {}
      },
      "source": [
        "1. write a program to calculate the length of a string."
      ],
      "execution_count": null,
      "outputs": []
    },
    {
      "cell_type": "code",
      "metadata": {
        "id": "4HhzY7-I32Sh",
        "colab_type": "code",
        "colab": {
          "base_uri": "https://localhost:8080/",
          "height": 51
        },
        "outputId": "2a88df1f-704c-4b07-f5a2-da6053448889"
      },
      "source": [
        "string=input(\"Enter a string: \")\n",
        "length=len(string)\n",
        "print(\"The length of\",string,\"is\",length)"
      ],
      "execution_count": 9,
      "outputs": [
        {
          "output_type": "stream",
          "text": [
            "Enter a string: vamsi\n",
            "The length of vamsi is 5\n"
          ],
          "name": "stdout"
        }
      ]
    },
    {
      "cell_type": "markdown",
      "metadata": {
        "id": "4-3ijD8A35hj",
        "colab_type": "text"
      },
      "source": [
        "2.write a program to find the character frequency in a string."
      ]
    },
    {
      "cell_type": "code",
      "metadata": {
        "id": "XAxLXsSi4Xx1",
        "colab_type": "code",
        "colab": {
          "base_uri": "https://localhost:8080/",
          "height": 51
        },
        "outputId": "18b053ed-0a61-4632-f86d-b13e4c78f2fa"
      },
      "source": [
        "string=input(\"Enter a string: \")\n",
        "frequency={}\n",
        "for i in string:\n",
        "    if i in frequency:\n",
        "        frequency[i]+=1\n",
        "    else:\n",
        "        frequency[i]=1\n",
        "print(\"Character frequency\",string,\"is:\",frequency)"
      ],
      "execution_count": 8,
      "outputs": [
        {
          "output_type": "stream",
          "text": [
            "Enter a string: vamsi\n",
            "Character frequency vamsi is: {'v': 1, 'a': 1, 'm': 1, 's': 1, 'i': 1}\n"
          ],
          "name": "stdout"
        }
      ]
    },
    {
      "cell_type": "markdown",
      "metadata": {
        "id": "pMJgz1JH4nvp",
        "colab_type": "text"
      },
      "source": [
        "3. Program to get a single string from two given strings, separated by a space and swap the first character of each string."
      ]
    },
    {
      "cell_type": "code",
      "metadata": {
        "id": "Ppr4loka4rcb",
        "colab_type": "code",
        "colab": {
          "base_uri": "https://localhost:8080/",
          "height": 85
        },
        "outputId": "1952c0c2-8d5f-4860-b580-281222e9d8e6"
      },
      "source": [
        "str1= input(\"Enter first string: \")\n",
        "str2= input(\"Enter secnd string: \")\n",
        "str1_swap= str2[:1]+str1[1:]\n",
        "str2_swap= str1[:1]+str2[1:]\n",
        "#n=str1.pop(0)\n",
        "#m=str2.pop(0)\n",
        "#p=list(str1_swap)\n",
        "#q=list(str2_swap)\n",
        "#str1=m+p\n",
        "#str2=n+q\n",
        "print(str1_swap)\n",
        "print(str2_swap)\n"
      ],
      "execution_count": 10,
      "outputs": [
        {
          "output_type": "stream",
          "text": [
            "Enter first string: end\n",
            "Enter secnd string: am\n",
            "and\n",
            "em\n"
          ],
          "name": "stdout"
        }
      ]
    },
    {
      "cell_type": "markdown",
      "metadata": {
        "id": "w_wO1PEy5OKp",
        "colab_type": "text"
      },
      "source": [
        "4. Take input from the user and displays that input back in upper and lower cases."
      ]
    },
    {
      "cell_type": "code",
      "metadata": {
        "id": "LRlDv-wm5RLL",
        "colab_type": "code",
        "colab": {
          "base_uri": "https://localhost:8080/",
          "height": 51
        },
        "outputId": "e79e7634-fbbd-4ee4-a221-18fa185599a6"
      },
      "source": [
        "string= input(\"Enter a string: \")\n",
        "upper_case=string.upper()\n",
        "lower_case=string.lower()\n",
        "print(\"The string\",string,\"in upper case is\",upper_case,\"and in lower case is\",lower_case)"
      ],
      "execution_count": 11,
      "outputs": [
        {
          "output_type": "stream",
          "text": [
            "Enter a string: vamsi\n",
            "The string vamsi in upper case is VAMSI and in lower case is vamsi\n"
          ],
          "name": "stdout"
        }
      ]
    },
    {
      "cell_type": "markdown",
      "metadata": {
        "id": "ltVMGsqE5coh",
        "colab_type": "text"
      },
      "source": [
        "5. Program to remove a newline."
      ]
    },
    {
      "cell_type": "code",
      "metadata": {
        "id": "1by6R_XR5iqY",
        "colab_type": "code",
        "colab": {
          "base_uri": "https://localhost:8080/",
          "height": 35
        },
        "outputId": "31290ba0-dbfc-4248-afb4-74240c7434a6"
      },
      "source": [
        "string= \"vamsi\\n\"\n",
        "string.rstrip('\\n')"
      ],
      "execution_count": 15,
      "outputs": [
        {
          "output_type": "execute_result",
          "data": {
            "application/vnd.google.colaboratory.intrinsic": {
              "type": "string"
            },
            "text/plain": [
              "'vamsi'"
            ]
          },
          "metadata": {
            "tags": []
          },
          "execution_count": 15
        }
      ]
    },
    {
      "cell_type": "markdown",
      "metadata": {
        "id": "jvKb4L3y6DOU",
        "colab_type": "text"
      },
      "source": [
        "6. Program to count occurrences of a substring in a string."
      ]
    },
    {
      "cell_type": "code",
      "metadata": {
        "id": "gcO4qJHY6D7l",
        "colab_type": "code",
        "colab": {
          "base_uri": "https://localhost:8080/",
          "height": 68
        },
        "outputId": "a8f837e7-1352-4670-8769-0a0ebe2260be"
      },
      "source": [
        "string= input(\"Enter a string: \")\n",
        "substr= input(\"Enter a substring present in the string: \")\n",
        "string.count(substr)"
      ],
      "execution_count": 16,
      "outputs": [
        {
          "output_type": "stream",
          "text": [
            "Enter a string: vamsi krishna\n",
            "Enter a substring present in the string: i\n"
          ],
          "name": "stdout"
        },
        {
          "output_type": "execute_result",
          "data": {
            "text/plain": [
              "2"
            ]
          },
          "metadata": {
            "tags": []
          },
          "execution_count": 16
        }
      ]
    },
    {
      "cell_type": "markdown",
      "metadata": {
        "id": "79BKrqAj6Y4s",
        "colab_type": "text"
      },
      "source": [
        "7. Program to convert a string in a list."
      ]
    },
    {
      "cell_type": "code",
      "metadata": {
        "id": "13GG69NF67NP",
        "colab_type": "code",
        "colab": {
          "base_uri": "https://localhost:8080/",
          "height": 51
        },
        "outputId": "597325e4-1da7-46f9-a426-fdb60e100e65"
      },
      "source": [
        "string=input(\"Enter a string: \")\n",
        "mylist=list(string)\n",
        "print(\"Converted list is\",mylist)"
      ],
      "execution_count": 17,
      "outputs": [
        {
          "output_type": "stream",
          "text": [
            "Enter a string: vamsi\n",
            "Converted list is ['v', 'a', 'm', 's', 'i']\n"
          ],
          "name": "stdout"
        }
      ]
    },
    {
      "cell_type": "markdown",
      "metadata": {
        "id": "9v5NKVhX7C4Y",
        "colab_type": "text"
      },
      "source": [
        "8. Program to delete a character."
      ]
    },
    {
      "cell_type": "code",
      "metadata": {
        "id": "0LF8hwPb7Dpc",
        "colab_type": "code",
        "colab": {
          "base_uri": "https://localhost:8080/",
          "height": 85
        },
        "outputId": "a3e93907-be61-4ec2-8fb5-4ffb26e75684"
      },
      "source": [
        "string=input(\"Enter a string: \")\n",
        "char=input(\"Enter the character to delete: \")\n",
        "print(\"The resultant string is\",string.replace(char,\"\"))\n",
        "print(\"The deleted char is\",char,\".\")"
      ],
      "execution_count": 19,
      "outputs": [
        {
          "output_type": "stream",
          "text": [
            "Enter a string: vamsi\n",
            "Enter the character to delete: v\n",
            "The resultant string is amsi\n",
            "The deleted char is v .\n"
          ],
          "name": "stdout"
        }
      ]
    },
    {
      "cell_type": "markdown",
      "metadata": {
        "id": "H4odeFX37cZA",
        "colab_type": "text"
      },
      "source": [
        "9. Program to print every character of a string entered by user in a new line using loop."
      ]
    },
    {
      "cell_type": "code",
      "metadata": {
        "id": "GgcT7qDJ7iX8",
        "colab_type": "code",
        "colab": {
          "base_uri": "https://localhost:8080/",
          "height": 136
        },
        "outputId": "b085cf68-c3b6-4942-990e-85dd73a6f1ea"
      },
      "source": [
        "string=input(\"Enter a string: \")\n",
        "print(\"Characters in the string\",string,\"are:\")\n",
        "for i in string:\n",
        "    print(i)"
      ],
      "execution_count": 20,
      "outputs": [
        {
          "output_type": "stream",
          "text": [
            "Enter a string: vamsi\n",
            "Characters in the string vamsi are:\n",
            "v\n",
            "a\n",
            "m\n",
            "s\n",
            "i\n"
          ],
          "name": "stdout"
        }
      ]
    },
    {
      "cell_type": "markdown",
      "metadata": {
        "id": "R6NUkxOg7utR",
        "colab_type": "text"
      },
      "source": [
        "10. Program to find the length of the string \"refrigerator\" without using len function."
      ]
    },
    {
      "cell_type": "code",
      "metadata": {
        "id": "E84yY2ZZ7ziC",
        "colab_type": "code",
        "colab": {
          "base_uri": "https://localhost:8080/",
          "height": 34
        },
        "outputId": "cc474108-bba4-4005-b658-e274429026f8"
      },
      "source": [
        "string= \"refrigerator\"\n",
        "length=0\n",
        "for i in string:\n",
        "    length+=1\n",
        "print(\"The length of the string\",string,\"is:\",length)"
      ],
      "execution_count": 21,
      "outputs": [
        {
          "output_type": "stream",
          "text": [
            "The length of the string refrigerator is: 12\n"
          ],
          "name": "stdout"
        }
      ]
    }
  ]
}